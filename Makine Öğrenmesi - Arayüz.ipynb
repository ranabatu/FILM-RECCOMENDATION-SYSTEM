{
 "cells": [
  {
   "cell_type": "markdown",
   "id": "2c9d8f5c",
   "metadata": {},
   "source": [
    "# MAKİNE ÖĞRENMESİ"
   ]
  },
  {
   "cell_type": "code",
   "execution_count": 1,
   "id": "d216c522",
   "metadata": {},
   "outputs": [],
   "source": [
    "import numpy as np\n",
    "import pandas as pd\n",
    "\n",
    "\n",
    "import warnings\n",
    "warnings.filterwarnings(\"ignore\")"
   ]
  },
  {
   "cell_type": "code",
   "execution_count": 2,
   "id": "02a5742c",
   "metadata": {},
   "outputs": [
    {
     "data": {
      "text/html": [
       "<div>\n",
       "<style scoped>\n",
       "    .dataframe tbody tr th:only-of-type {\n",
       "        vertical-align: middle;\n",
       "    }\n",
       "\n",
       "    .dataframe tbody tr th {\n",
       "        vertical-align: top;\n",
       "    }\n",
       "\n",
       "    .dataframe thead th {\n",
       "        text-align: right;\n",
       "    }\n",
       "</style>\n",
       "<table border=\"1\" class=\"dataframe\">\n",
       "  <thead>\n",
       "    <tr style=\"text-align: right;\">\n",
       "      <th></th>\n",
       "      <th>title</th>\n",
       "      <th>imdb</th>\n",
       "      <th>Genre</th>\n",
       "      <th>year</th>\n",
       "      <th>dir_star</th>\n",
       "      <th>duration</th>\n",
       "      <th>certificate</th>\n",
       "      <th>description</th>\n",
       "      <th>Director</th>\n",
       "      <th>Stars</th>\n",
       "    </tr>\n",
       "  </thead>\n",
       "  <tbody>\n",
       "    <tr>\n",
       "      <th>0</th>\n",
       "      <td>The Shawshank Redemption</td>\n",
       "      <td>93</td>\n",
       "      <td>Drama</td>\n",
       "      <td>1994</td>\n",
       "      <td>Director: Frank Darabont | Stars: Tim Robbins,...</td>\n",
       "      <td>142</td>\n",
       "      <td>R</td>\n",
       "      <td>Over the course of several years, two convicts...</td>\n",
       "      <td>Director: Frank Darabont</td>\n",
       "      <td>Stars: Tim Robbins, Morgan Freeman, Bob Gunto...</td>\n",
       "    </tr>\n",
       "    <tr>\n",
       "      <th>1</th>\n",
       "      <td>The Godfather</td>\n",
       "      <td>92</td>\n",
       "      <td>Crime</td>\n",
       "      <td>1972</td>\n",
       "      <td>Director: Francis Ford Coppola | Stars: Marlon...</td>\n",
       "      <td>175</td>\n",
       "      <td>R</td>\n",
       "      <td>Don Vito Corleone, head of a mafia family, dec...</td>\n",
       "      <td>Director: Francis Ford Coppola</td>\n",
       "      <td>Stars: Marlon Brando, Al Pacino, James Caan, ...</td>\n",
       "    </tr>\n",
       "    <tr>\n",
       "      <th>2</th>\n",
       "      <td>The Dark Knight</td>\n",
       "      <td>90</td>\n",
       "      <td>Action</td>\n",
       "      <td>2008</td>\n",
       "      <td>Director: Christopher Nolan | Stars: Christian...</td>\n",
       "      <td>152</td>\n",
       "      <td>PG-13</td>\n",
       "      <td>When the menace known as the Joker wreaks havo...</td>\n",
       "      <td>Director: Christopher Nolan</td>\n",
       "      <td>Stars: Christian Bale, Heath Ledger, Aaron Ec...</td>\n",
       "    </tr>\n",
       "    <tr>\n",
       "      <th>3</th>\n",
       "      <td>Schindler's List</td>\n",
       "      <td>90</td>\n",
       "      <td>Biography</td>\n",
       "      <td>1993</td>\n",
       "      <td>Director: Steven Spielberg | Stars: Liam Neeso...</td>\n",
       "      <td>195</td>\n",
       "      <td>R</td>\n",
       "      <td>In German-occupied Poland during World War II,...</td>\n",
       "      <td>Director: Steven Spielberg</td>\n",
       "      <td>Stars: Liam Neeson, Ralph Fiennes, Ben Kingsl...</td>\n",
       "    </tr>\n",
       "    <tr>\n",
       "      <th>4</th>\n",
       "      <td>The Godfather Part II</td>\n",
       "      <td>90</td>\n",
       "      <td>Crime</td>\n",
       "      <td>1974</td>\n",
       "      <td>Director: Francis Ford Coppola | Stars: Al Pac...</td>\n",
       "      <td>202</td>\n",
       "      <td>R</td>\n",
       "      <td>The early life and career of Vito Corleone in ...</td>\n",
       "      <td>Director: Francis Ford Coppola</td>\n",
       "      <td>Stars: Al Pacino, Robert De Niro, Robert Duva...</td>\n",
       "    </tr>\n",
       "  </tbody>\n",
       "</table>\n",
       "</div>"
      ],
      "text/plain": [
       "                      title  imdb      Genre  year  \\\n",
       "0  The Shawshank Redemption    93      Drama  1994   \n",
       "1             The Godfather    92      Crime  1972   \n",
       "2           The Dark Knight    90     Action  2008   \n",
       "3          Schindler's List    90  Biography  1993   \n",
       "4     The Godfather Part II    90      Crime  1974   \n",
       "\n",
       "                                            dir_star  duration certificate  \\\n",
       "0  Director: Frank Darabont | Stars: Tim Robbins,...       142           R   \n",
       "1  Director: Francis Ford Coppola | Stars: Marlon...       175           R   \n",
       "2  Director: Christopher Nolan | Stars: Christian...       152       PG-13   \n",
       "3  Director: Steven Spielberg | Stars: Liam Neeso...       195           R   \n",
       "4  Director: Francis Ford Coppola | Stars: Al Pac...       202           R   \n",
       "\n",
       "                                         description  \\\n",
       "0  Over the course of several years, two convicts...   \n",
       "1  Don Vito Corleone, head of a mafia family, dec...   \n",
       "2  When the menace known as the Joker wreaks havo...   \n",
       "3  In German-occupied Poland during World War II,...   \n",
       "4  The early life and career of Vito Corleone in ...   \n",
       "\n",
       "                          Director  \\\n",
       "0        Director: Frank Darabont    \n",
       "1  Director: Francis Ford Coppola    \n",
       "2     Director: Christopher Nolan    \n",
       "3      Director: Steven Spielberg    \n",
       "4  Director: Francis Ford Coppola    \n",
       "\n",
       "                                               Stars  \n",
       "0   Stars: Tim Robbins, Morgan Freeman, Bob Gunto...  \n",
       "1   Stars: Marlon Brando, Al Pacino, James Caan, ...  \n",
       "2   Stars: Christian Bale, Heath Ledger, Aaron Ec...  \n",
       "3   Stars: Liam Neeson, Ralph Fiennes, Ben Kingsl...  \n",
       "4   Stars: Al Pacino, Robert De Niro, Robert Duva...  "
      ]
     },
     "execution_count": 2,
     "metadata": {},
     "output_type": "execute_result"
    }
   ],
   "source": [
    "df = pd.read_csv(\"last_list.csv\")\n",
    "df.head()"
   ]
  },
  {
   "cell_type": "code",
   "execution_count": 3,
   "id": "72ae9551",
   "metadata": {},
   "outputs": [],
   "source": [
    "df.drop(['dir_star'],axis = 1, inplace = True)"
   ]
  },
  {
   "cell_type": "code",
   "execution_count": 4,
   "id": "6bbe232b",
   "metadata": {
    "scrolled": true
   },
   "outputs": [
    {
     "name": "stdout",
     "output_type": "stream",
     "text": [
      "<class 'pandas.core.frame.DataFrame'>\n",
      "RangeIndex: 994 entries, 0 to 993\n",
      "Data columns (total 9 columns):\n",
      " #   Column       Non-Null Count  Dtype \n",
      "---  ------       --------------  ----- \n",
      " 0   title        994 non-null    object\n",
      " 1   imdb         994 non-null    int64 \n",
      " 2   Genre        994 non-null    object\n",
      " 3   year         994 non-null    object\n",
      " 4   duration     994 non-null    int64 \n",
      " 5   certificate  994 non-null    object\n",
      " 6   description  994 non-null    object\n",
      " 7   Director     994 non-null    object\n",
      " 8   Stars        994 non-null    object\n",
      "dtypes: int64(2), object(7)\n",
      "memory usage: 70.0+ KB\n"
     ]
    }
   ],
   "source": [
    "df.info()"
   ]
  },
  {
   "cell_type": "code",
   "execution_count": 5,
   "id": "b90ca1b5",
   "metadata": {},
   "outputs": [
    {
     "data": {
      "text/plain": [
       "title          0\n",
       "imdb           0\n",
       "Genre          0\n",
       "year           0\n",
       "duration       0\n",
       "certificate    0\n",
       "description    0\n",
       "Director       0\n",
       "Stars          0\n",
       "dtype: int64"
      ]
     },
     "execution_count": 5,
     "metadata": {},
     "output_type": "execute_result"
    }
   ],
   "source": [
    "df.isna().sum()"
   ]
  },
  {
   "cell_type": "code",
   "execution_count": 6,
   "id": "4bda710b",
   "metadata": {
    "scrolled": true
   },
   "outputs": [
    {
     "data": {
      "text/html": [
       "<div>\n",
       "<style scoped>\n",
       "    .dataframe tbody tr th:only-of-type {\n",
       "        vertical-align: middle;\n",
       "    }\n",
       "\n",
       "    .dataframe tbody tr th {\n",
       "        vertical-align: top;\n",
       "    }\n",
       "\n",
       "    .dataframe thead th {\n",
       "        text-align: right;\n",
       "    }\n",
       "</style>\n",
       "<table border=\"1\" class=\"dataframe\">\n",
       "  <thead>\n",
       "    <tr style=\"text-align: right;\">\n",
       "      <th></th>\n",
       "      <th>title</th>\n",
       "      <th>imdb</th>\n",
       "      <th>Genre</th>\n",
       "      <th>year</th>\n",
       "      <th>duration</th>\n",
       "      <th>certificate</th>\n",
       "      <th>description</th>\n",
       "      <th>Director</th>\n",
       "      <th>Stars</th>\n",
       "    </tr>\n",
       "  </thead>\n",
       "  <tbody>\n",
       "    <tr>\n",
       "      <th>0</th>\n",
       "      <td>The Shawshank Redemption</td>\n",
       "      <td>93</td>\n",
       "      <td>Drama</td>\n",
       "      <td>1994</td>\n",
       "      <td>142</td>\n",
       "      <td>R</td>\n",
       "      <td>Over the course of several years, two convicts...</td>\n",
       "      <td>Director: Frank Darabont</td>\n",
       "      <td>Stars: Tim Robbins, Morgan Freeman, Bob Gunto...</td>\n",
       "    </tr>\n",
       "    <tr>\n",
       "      <th>1</th>\n",
       "      <td>The Godfather</td>\n",
       "      <td>92</td>\n",
       "      <td>Crime</td>\n",
       "      <td>1972</td>\n",
       "      <td>175</td>\n",
       "      <td>R</td>\n",
       "      <td>Don Vito Corleone, head of a mafia family, dec...</td>\n",
       "      <td>Director: Francis Ford Coppola</td>\n",
       "      <td>Stars: Marlon Brando, Al Pacino, James Caan, ...</td>\n",
       "    </tr>\n",
       "    <tr>\n",
       "      <th>2</th>\n",
       "      <td>The Dark Knight</td>\n",
       "      <td>90</td>\n",
       "      <td>Action</td>\n",
       "      <td>2008</td>\n",
       "      <td>152</td>\n",
       "      <td>PG-13</td>\n",
       "      <td>When the menace known as the Joker wreaks havo...</td>\n",
       "      <td>Director: Christopher Nolan</td>\n",
       "      <td>Stars: Christian Bale, Heath Ledger, Aaron Ec...</td>\n",
       "    </tr>\n",
       "    <tr>\n",
       "      <th>3</th>\n",
       "      <td>Schindler's List</td>\n",
       "      <td>90</td>\n",
       "      <td>Biography</td>\n",
       "      <td>1993</td>\n",
       "      <td>195</td>\n",
       "      <td>R</td>\n",
       "      <td>In German-occupied Poland during World War II,...</td>\n",
       "      <td>Director: Steven Spielberg</td>\n",
       "      <td>Stars: Liam Neeson, Ralph Fiennes, Ben Kingsl...</td>\n",
       "    </tr>\n",
       "    <tr>\n",
       "      <th>4</th>\n",
       "      <td>The Godfather Part II</td>\n",
       "      <td>90</td>\n",
       "      <td>Crime</td>\n",
       "      <td>1974</td>\n",
       "      <td>202</td>\n",
       "      <td>R</td>\n",
       "      <td>The early life and career of Vito Corleone in ...</td>\n",
       "      <td>Director: Francis Ford Coppola</td>\n",
       "      <td>Stars: Al Pacino, Robert De Niro, Robert Duva...</td>\n",
       "    </tr>\n",
       "  </tbody>\n",
       "</table>\n",
       "</div>"
      ],
      "text/plain": [
       "                      title  imdb      Genre  year  duration certificate  \\\n",
       "0  The Shawshank Redemption    93      Drama  1994       142           R   \n",
       "1             The Godfather    92      Crime  1972       175           R   \n",
       "2           The Dark Knight    90     Action  2008       152       PG-13   \n",
       "3          Schindler's List    90  Biography  1993       195           R   \n",
       "4     The Godfather Part II    90      Crime  1974       202           R   \n",
       "\n",
       "                                         description  \\\n",
       "0  Over the course of several years, two convicts...   \n",
       "1  Don Vito Corleone, head of a mafia family, dec...   \n",
       "2  When the menace known as the Joker wreaks havo...   \n",
       "3  In German-occupied Poland during World War II,...   \n",
       "4  The early life and career of Vito Corleone in ...   \n",
       "\n",
       "                          Director  \\\n",
       "0        Director: Frank Darabont    \n",
       "1  Director: Francis Ford Coppola    \n",
       "2     Director: Christopher Nolan    \n",
       "3      Director: Steven Spielberg    \n",
       "4  Director: Francis Ford Coppola    \n",
       "\n",
       "                                               Stars  \n",
       "0   Stars: Tim Robbins, Morgan Freeman, Bob Gunto...  \n",
       "1   Stars: Marlon Brando, Al Pacino, James Caan, ...  \n",
       "2   Stars: Christian Bale, Heath Ledger, Aaron Ec...  \n",
       "3   Stars: Liam Neeson, Ralph Fiennes, Ben Kingsl...  \n",
       "4   Stars: Al Pacino, Robert De Niro, Robert Duva...  "
      ]
     },
     "execution_count": 6,
     "metadata": {},
     "output_type": "execute_result"
    }
   ],
   "source": [
    "df.head()"
   ]
  },
  {
   "cell_type": "code",
   "execution_count": 7,
   "id": "9c0b0fed",
   "metadata": {},
   "outputs": [],
   "source": [
    "from sklearn.feature_extraction.text import TfidfVectorizer"
   ]
  },
  {
   "cell_type": "code",
   "execution_count": 8,
   "id": "1bc04300",
   "metadata": {},
   "outputs": [],
   "source": [
    "# Tüm kelimeleri küçük harf yaparak verileri temizleme.\n",
    "def clean_data(x):\n",
    "        return str.lower(x.replace(\" \", \"\"))"
   ]
  },
  {
   "cell_type": "code",
   "execution_count": 9,
   "id": "c1f58cde",
   "metadata": {},
   "outputs": [],
   "source": [
    "# Kullanacağımız özellik kolonları ekleme ekleme\n",
    "features=['Genre','Director','Stars','description','title']\n",
    "filters = df[features]"
   ]
  },
  {
   "cell_type": "code",
   "execution_count": 10,
   "id": "43a0bf20",
   "metadata": {
    "scrolled": true
   },
   "outputs": [
    {
     "data": {
      "text/html": [
       "<div>\n",
       "<style scoped>\n",
       "    .dataframe tbody tr th:only-of-type {\n",
       "        vertical-align: middle;\n",
       "    }\n",
       "\n",
       "    .dataframe tbody tr th {\n",
       "        vertical-align: top;\n",
       "    }\n",
       "\n",
       "    .dataframe thead th {\n",
       "        text-align: right;\n",
       "    }\n",
       "</style>\n",
       "<table border=\"1\" class=\"dataframe\">\n",
       "  <thead>\n",
       "    <tr style=\"text-align: right;\">\n",
       "      <th></th>\n",
       "      <th>Genre</th>\n",
       "      <th>Director</th>\n",
       "      <th>Stars</th>\n",
       "      <th>description</th>\n",
       "      <th>title</th>\n",
       "    </tr>\n",
       "  </thead>\n",
       "  <tbody>\n",
       "    <tr>\n",
       "      <th>0</th>\n",
       "      <td>drama</td>\n",
       "      <td>director:frankdarabont</td>\n",
       "      <td>stars:timrobbins,morganfreeman,bobgunton,willi...</td>\n",
       "      <td>overthecourseofseveralyears,twoconvictsformafr...</td>\n",
       "      <td>theshawshankredemption</td>\n",
       "    </tr>\n",
       "    <tr>\n",
       "      <th>1</th>\n",
       "      <td>crime</td>\n",
       "      <td>director:francisfordcoppola</td>\n",
       "      <td>stars:marlonbrando,alpacino,jamescaan,dianekeaton</td>\n",
       "      <td>donvitocorleone,headofamafiafamily,decidestoha...</td>\n",
       "      <td>thegodfather</td>\n",
       "    </tr>\n",
       "    <tr>\n",
       "      <th>2</th>\n",
       "      <td>action</td>\n",
       "      <td>director:christophernolan</td>\n",
       "      <td>stars:christianbale,heathledger,aaroneckhart,m...</td>\n",
       "      <td>whenthemenaceknownasthejokerwreakshavocandchao...</td>\n",
       "      <td>thedarkknight</td>\n",
       "    </tr>\n",
       "    <tr>\n",
       "      <th>3</th>\n",
       "      <td>biography</td>\n",
       "      <td>director:stevenspielberg</td>\n",
       "      <td>stars:liamneeson,ralphfiennes,benkingsley,caro...</td>\n",
       "      <td>ingerman-occupiedpolandduringworldwarii,indust...</td>\n",
       "      <td>schindler'slist</td>\n",
       "    </tr>\n",
       "    <tr>\n",
       "      <th>4</th>\n",
       "      <td>crime</td>\n",
       "      <td>director:francisfordcoppola</td>\n",
       "      <td>stars:alpacino,robertdeniro,robertduvall,diane...</td>\n",
       "      <td>theearlylifeandcareerofvitocorleonein1920snewy...</td>\n",
       "      <td>thegodfatherpartii</td>\n",
       "    </tr>\n",
       "  </tbody>\n",
       "</table>\n",
       "</div>"
      ],
      "text/plain": [
       "       Genre                     Director  \\\n",
       "0      drama       director:frankdarabont   \n",
       "1      crime  director:francisfordcoppola   \n",
       "2     action    director:christophernolan   \n",
       "3  biography     director:stevenspielberg   \n",
       "4      crime  director:francisfordcoppola   \n",
       "\n",
       "                                               Stars  \\\n",
       "0  stars:timrobbins,morganfreeman,bobgunton,willi...   \n",
       "1  stars:marlonbrando,alpacino,jamescaan,dianekeaton   \n",
       "2  stars:christianbale,heathledger,aaroneckhart,m...   \n",
       "3  stars:liamneeson,ralphfiennes,benkingsley,caro...   \n",
       "4  stars:alpacino,robertdeniro,robertduvall,diane...   \n",
       "\n",
       "                                         description                   title  \n",
       "0  overthecourseofseveralyears,twoconvictsformafr...  theshawshankredemption  \n",
       "1  donvitocorleone,headofamafiafamily,decidestoha...            thegodfather  \n",
       "2  whenthemenaceknownasthejokerwreakshavocandchao...           thedarkknight  \n",
       "3  ingerman-occupiedpolandduringworldwarii,indust...         schindler'slist  \n",
       "4  theearlylifeandcareerofvitocorleonein1920snewy...      thegodfatherpartii  "
      ]
     },
     "execution_count": 10,
     "metadata": {},
     "output_type": "execute_result"
    }
   ],
   "source": [
    "# Features içinde seçilen kolonlara clean_data işlemi uygulandı\n",
    "for feature in features:\n",
    "    filters[feature] = filters[feature].apply(clean_data)\n",
    "    \n",
    "filters.head()"
   ]
  },
  {
   "cell_type": "code",
   "execution_count": 11,
   "id": "def1f59e",
   "metadata": {},
   "outputs": [],
   "source": [
    "# Kullanılacak kolonlar filters adında ayrı bir CSV dosyasına kaydedildi\n",
    "#df.to_csv('filters.csv', index=False)"
   ]
  },
  {
   "cell_type": "code",
   "execution_count": 12,
   "id": "0b4e9ff4",
   "metadata": {},
   "outputs": [],
   "source": [
    "# df'nin seçilen features sutünlarını kullanarak bir metin oluşturma fonksiyonu\n",
    "def create_soup(x):\n",
    "    return x['Director'] + ' ' + x['Stars'] + ' ' +x['Genre']+' '+ x['description']"
   ]
  },
  {
   "cell_type": "code",
   "execution_count": 13,
   "id": "089a90e2",
   "metadata": {},
   "outputs": [],
   "source": [
    "# Her satıra create_soup fonksiyonunu uygulayarak soup adında yeni kolon oluşturma \n",
    "filters['soup'] = filters.apply(create_soup, axis=1)"
   ]
  },
  {
   "cell_type": "code",
   "execution_count": 14,
   "id": "3b6728d8",
   "metadata": {},
   "outputs": [],
   "source": [
    "# CountVectorizer'ı import edip ve sayım matrisini oluşturma\n",
    "from sklearn.feature_extraction.text import CountVectorizer\n",
    "\n",
    "count = CountVectorizer(stop_words='english')\n",
    "count_matrix = count.fit_transform(filters['soup'])"
   ]
  },
  {
   "cell_type": "code",
   "execution_count": 15,
   "id": "f69860ae",
   "metadata": {},
   "outputs": [],
   "source": [
    "# count_matrix'e göre kosinüs benzerliği matrisini hesaplama\n",
    "from sklearn.metrics.pairwise import cosine_similarity\n",
    "\n",
    "cos_sim = cosine_similarity(count_matrix, count_matrix)"
   ]
  },
  {
   "cell_type": "code",
   "execution_count": 16,
   "id": "5fea9a4f",
   "metadata": {},
   "outputs": [],
   "source": [
    "# Ana DataFrame'imizin dizinini sıfırlama ve daha önce olduğu gibi ters eşlemeyi oluşturma\n",
    "filters=filters.reset_index()\n",
    "indices = pd.Series(filters.index, index=filters['title'])"
   ]
  },
  {
   "cell_type": "code",
   "execution_count": 17,
   "id": "7aa21817",
   "metadata": {},
   "outputs": [],
   "source": [
    "def get_recommendations(title, cos_sim=cos_sim):\n",
    "    title=title.replace(' ','').lower()\n",
    "    idx = indices[title]\n",
    "    \n",
    "    try:\n",
    "        idx = indices[title]\n",
    "    except KeyError:\n",
    "        return None  # Eğer film bulunamazsa None döndür\n",
    "\n",
    "    # Bu filmle tüm filmlerin çift benzerlik puanlarını alma\n",
    "    sim_scores = list(enumerate(cos_sim[idx]))\n",
    "    \n",
    "    # Filmleri benzerlik puanlarına göre sıralama\n",
    "    sim_scores = sorted(sim_scores, key=lambda x: x[1], reverse=True)\n",
    "\n",
    "    # En benzer 10 filmin puanlarını alın\n",
    "    sim_scores = sim_scores[1:11]\n",
    "\n",
    "    # Film indekslerini alma\n",
    "    movie_indices = [i[0] for i in sim_scores]\n",
    "\n",
    "    # En çok benzeyen 10 filmi döndürme\n",
    "    return df['title'].iloc[movie_indices]"
   ]
  },
  {
   "cell_type": "code",
   "execution_count": 18,
   "id": "e3db57fc",
   "metadata": {},
   "outputs": [
    {
     "data": {
      "text/plain": [
       "636    The Curious Case of Benjamin Button\n",
       "781                               The Game\n",
       "24                                   Se7en\n",
       "969                              25th Hour\n",
       "210                              Gone Girl\n",
       "694                          All That Jazz\n",
       "34                   It's a Wonderful Life\n",
       "52                              Casablanca\n",
       "59                                      96\n",
       "80                            Sunset Blvd.\n",
       "Name: title, dtype: object"
      ]
     },
     "execution_count": 18,
     "metadata": {},
     "output_type": "execute_result"
    }
   ],
   "source": [
    "get_recommendations('Fight Club')"
   ]
  },
  {
   "cell_type": "code",
   "execution_count": 19,
   "id": "3e191563",
   "metadata": {},
   "outputs": [
    {
     "data": {
      "text/plain": [
       "4            The Godfather Part II\n",
       "797            Glengarry Glen Ross\n",
       "71                  Apocalypse Now\n",
       "99                        Scarface\n",
       "492                  Carlito's Way\n",
       "271              On the Waterfront\n",
       "42                    The Departed\n",
       "83     Witness for the Prosecution\n",
       "136                       Drishyam\n",
       "174              Dial M for Murder\n",
       "Name: title, dtype: object"
      ]
     },
     "execution_count": 19,
     "metadata": {},
     "output_type": "execute_result"
    }
   ],
   "source": [
    "get_recommendations('The GodFather')"
   ]
  },
  {
   "cell_type": "code",
   "execution_count": 20,
   "id": "da577955",
   "metadata": {},
   "outputs": [
    {
     "data": {
      "text/plain": [
       "277                            PK\n",
       "322               Rang De Basanti\n",
       "461          Carry On, Munna Bhai\n",
       "307           Munna Bhai M.B.B.S.\n",
       "296                Dil Chahta Hai\n",
       "21     Rocketry: The Nambi Effect\n",
       "119                        Dangal\n",
       "122                     The Sting\n",
       "146               The Truman Show\n",
       "197      Zindagi Na Milegi Dobara\n",
       "Name: title, dtype: object"
      ]
     },
     "execution_count": 20,
     "metadata": {},
     "output_type": "execute_result"
    }
   ],
   "source": [
    "get_recommendations('3 Idiots')"
   ]
  },
  {
   "cell_type": "code",
   "execution_count": 21,
   "id": "62aa1891",
   "metadata": {},
   "outputs": [
    {
     "data": {
      "text/plain": [
       "142            Batman Begins\n",
       "648         The Last Samurai\n",
       "2            The Dark Knight\n",
       "348             The Revenant\n",
       "704    Letters from Iwo Jima\n",
       "62     The Dark Knight Rises\n",
       "598                  Dunkirk\n",
       "780       500 Days of Summer\n",
       "966                    50/50\n",
       "38                 Gladiator\n",
       "Name: title, dtype: object"
      ]
     },
     "execution_count": 21,
     "metadata": {},
     "output_type": "execute_result"
    }
   ],
   "source": [
    "get_recommendations('Inception')"
   ]
  },
  {
   "cell_type": "code",
   "execution_count": 22,
   "id": "1ba54bdd",
   "metadata": {},
   "outputs": [
    {
     "data": {
      "text/plain": [
       "634                 Cast Away\n",
       "827                 Apollo 13\n",
       "814              Philadelphia\n",
       "26        Saving Private Ryan\n",
       "694             All That Jazz\n",
       "34      It's a Wonderful Life\n",
       "52                 Casablanca\n",
       "59                         96\n",
       "80               Sunset Blvd.\n",
       "173    For a Few Dollars More\n",
       "Name: title, dtype: object"
      ]
     },
     "execution_count": 22,
     "metadata": {},
     "output_type": "execute_result"
    }
   ],
   "source": [
    "get_recommendations('Forrest Gump')"
   ]
  },
  {
   "cell_type": "markdown",
   "id": "8898edfa",
   "metadata": {},
   "source": [
    "# ARAYÜZ OLUŞTURMA"
   ]
  },
  {
   "cell_type": "code",
   "execution_count": null,
   "id": "7f5a8e10",
   "metadata": {},
   "outputs": [],
   "source": []
  },
  {
   "cell_type": "code",
   "execution_count": 35,
   "id": "cce66c65",
   "metadata": {},
   "outputs": [],
   "source": [
    "import tkinter as tk\n",
    "from PIL import Image, ImageTk\n",
    "import requests\n",
    "from selenium import webdriver\n",
    "\n",
    "def get_recommendations(title, cos_sim):\n",
    "    title = title.replace(' ', '').lower()\n",
    "    try:\n",
    "        idx = indices[title]\n",
    "    except KeyError:\n",
    "        return None  # Eğer film bulunamazsa None döndür\n",
    "\n",
    "    # Bu filmle tüm filmlerin çift benzerlik puanlarını alma\n",
    "    sim_scores = list(enumerate(cos_sim[idx]))\n",
    "\n",
    "    # Filmleri benzerlik puanlarına göre sıralama\n",
    "    sim_scores = sorted(sim_scores, key=lambda x: x[1], reverse=True)\n",
    "\n",
    "    # En benzer 10 filmin puanlarını alın\n",
    "    sim_scores = sim_scores[1:11]\n",
    "\n",
    "    # Film indekslerini alma\n",
    "    movie_indices = [i[0] for i in sim_scores]\n",
    "\n",
    "    # En çok benzeyen 10 filmi döndürme\n",
    "    return df['title'].iloc[movie_indices]\n",
    "\n",
    "def oneri_getir():\n",
    "    # Boşlukları temziler\n",
    "    film_adi = entry_film.get().strip()\n",
    "    # Eğer film adı boş butona basılmışsa text kutusunun içini siler ve hata mesajı döndürür\n",
    "    if not film_adi:  \n",
    "        oneri_text.config(state=tk.NORMAL)\n",
    "        oneri_text.delete(\"1.0\", tk.END)\n",
    "        oneri_text.insert(tk.END, \"The name of the movie is blank. Please enter the name of a valid movie.\")\n",
    "        oneri_text.config(state=tk.DISABLED)\n",
    "        return\n",
    "\n",
    "    oneriler = get_recommendations(film_adi, cos_sim)\n",
    "\n",
    "    oneri_text.config(state=tk.NORMAL)\n",
    "    oneri_text.delete(\"1.0\", tk.END)\n",
    "\n",
    "    # Eğer yazılan film listede yoksa hata mesajı döndürür\n",
    "    if oneriler is not None:\n",
    "        for i, film in enumerate(oneriler, 1):\n",
    "            oneri_text.insert(tk.END, f\"{i}. {film}\\n\")\n",
    "    else:\n",
    "        oneri_text.insert(tk.END, \"Movie not found. Please enter a correct movie listed.\")\n",
    "\n",
    "    oneri_text.config(state=tk.DISABLED)\n",
    "\n",
    "    \n",
    "# Aranacak filmin tam adı bilinmiyorsa internet sitesine girerek film adına bakılabilir ve öneri alınabilir    \n",
    "def oneri_website():\n",
    "    browser = webdriver.Chrome()\n",
    "    # Hesap ayarlarda seçili özelliklerin kullanılabilmesi(filmlerin adının orjinal dilinde olması) için,\n",
    "    #sayfada hesap girişi yapılacak bilgiler\n",
    "    username = \"rana.batu01@gmail.com\"\n",
    "    password = \"imdb1234\"\n",
    "\n",
    "    # Yüklenecek web sayfası\n",
    "    browser.get(\"https://www.imdb.com/\")\n",
    "\n",
    "    # Hesap girişi yapılabilmesi için olan işlemler\n",
    "    browser.find_element(\"xpath\", f'//*[@id=\"imdbHeader\"]/div[2]/div[5]/a/span').click()\n",
    "    browser.find_element(\"xpath\", f'//*[@id=\"signin-options\"]/div/div[1]/a[1]').click()\n",
    "    username_input = browser.find_element(\"xpath\", f'//*[@id=\"ap_email\"]')\n",
    "    password_input = browser.find_element(\"xpath\", f'//*[@id=\"ap_password\"]')\n",
    "\n",
    "    username_input.send_keys(\"rana.batu01@gmail.com\")\n",
    "    password_input.send_keys(\"imdb1234\")\n",
    "\n",
    "    browser.find_element(\"xpath\", f'//*[@id=\"signInSubmit\"]').click()\n",
    "\n",
    "    browser.refresh()\n",
    "\n",
    "    # IMDB sitesinde önerilen ilk 1000 film adresine gider\n",
    "    browser.get(\"https://www.imdb.com/search/title/?count=100&groups=top_1000&sort=user_rating\") \n",
    "    browser.mainloop()    \n",
    "\n",
    "    # Tarayıcıyı kapat\n",
    "    browser.quit()\n",
    "\n",
    "# Butonların üzerine gelindiğinde veya basıldığında oluşacak efekler bu fonksiyonlarda tanımlanmıştır\n",
    "def oneri_butona_giris(event):\n",
    "    button.config(bg=\"#8C8C8C\", fg=\"white\") #Fare üzerine geldiğinde oluşacak renk\n",
    "    button.config(relief=tk.SUNKEN)  # Butonu bastırılmış gibi göster\n",
    "    \n",
    "\n",
    "def website_butona_giris(event):    \n",
    "    button_site.config(bg=\"#8C8C8C\", fg=\"white\") #Fare üzerine geldiğinde oluşacak renk\n",
    "    button_site.config(relief=tk.SUNKEN)  # Butonu bastırılmış gibi göster\n",
    "    \n",
    "def oneri_butondan_cikis(event):\n",
    "    button.config(bg=\"#454545\", fg=\"white\") #Fare üzerinden çekildiğinde oluşacak renk\n",
    "    button.config(relief=tk.RAISED)  #Gölge animasyonları\n",
    "    \n",
    "\n",
    "def website_butondan_cikis(event):\n",
    "    button_site.config(bg=\"#4682B4\", fg=\"white\") #Fare üzerinden çekildiğinde oluşacak renk\n",
    "    button_site.config(relief=tk.RAISED)  #Gölge animasyonları\n",
    "    \n",
    "    \n",
    "# Pencere oluşturur\n",
    "window = tk.Tk()\n",
    "window.title(\"Film Recommendation System\")\n",
    "\n",
    "# Pencere boyutu ve konumu ayarlar\n",
    "window.geometry(\"800x600\")\n",
    "\n",
    "# Arkaplan resmini yükler\n",
    "img = Image.open(\"afiss1.png\")\n",
    "img = img.resize((window.winfo_screenwidth(), window.winfo_screenheight()), Image.ANTIALIAS)\n",
    "arkaplan_resmi = ImageTk.PhotoImage(img)\n",
    "\n",
    "# Arka plan resmini etiketle ve en arkaya yerleştir\n",
    "arkaplan_etiket = tk.Label(window, image = arkaplan_resmi)\n",
    "arkaplan_etiket.place(x=0, y=0, relwidth = 1, relheight = 1)\n",
    "\n",
    "# Resim açma ve oluşturma\n",
    "resim = Image.open(\"imdb2.png\")\n",
    "tk_resim = ImageTk.PhotoImage(resim)\n",
    "\n",
    "# Resmi etiketleme\n",
    "etiket_resim = tk.Label(window, image = tk_resim)\n",
    "etiket_resim.image = tk_resim \n",
    "etiket_resim.pack()\n",
    "\n",
    "# Film giriş kutusu başlığı oluşturma\n",
    "label_film = tk.Label(window, text=\"ENTER THE NAME OF THE MOVIES\", font=(\"Stencil\", 20), bg = 'red', fg = 'white')\n",
    "label_film.pack(pady=10)\n",
    "\n",
    "# Film adı yazma kısmı\n",
    "entry_film = tk.Entry(window, width=40, fg='black', font=(\"Microsoft JhengHei\", 12), relief = tk.SOLID, bd=2, bg = 'white', insertwidth=1)\n",
    "entry_film.insert(0, \"Write Here\")\n",
    "entry_film.bind(\"<FocusIn>\", lambda event: entry_film.delete(0, tk.END) if entry_film.get() == \"Write Here\" else None)\n",
    "entry_film.bind(\"<FocusOut>\", lambda event: entry_film.insert(0, \"Write Here\") if not entry_film.get() else None)\n",
    "entry_film.pack(pady=10)\n",
    "\n",
    "# Öner butonu oluşturma ve oneri getir fonksiyonunu kullanma\n",
    "button = tk.Button(window, text=\"SEND SUGGESTIONS\", font=(\"Arial Black\",9), command=oneri_getir, bg='#454545', fg='white',relief=tk.RAISED)\n",
    "button.pack(pady=5)\n",
    "entry_film.bind(\"<Return>\", lambda event: oneri_getir()) #enter tuşu da çalıştırır\n",
    "\n",
    "# Buton çerçeve efekti için bir çerçeve oluşturma\n",
    "button_ust_cerceve = tk.Frame(window, bg=\"black\")\n",
    "button_ust_cerceve.pack(fill=\"both\")\n",
    "\n",
    "# Öneri butonu animasyonlarına bağlanma\n",
    "button.bind(\"<Enter>\", oneri_butona_giris)\n",
    "button.bind(\"<Leave>\", oneri_butondan_cikis)\n",
    "\n",
    "# Web sitesi önerisi için web sitesine yönlendiren butan oluşturma\n",
    "button_site = tk.Button(window, text=\"Go to the website for recommended movie names\", font=(\"Arial Black\", 9), command=oneri_website, bg='#4682B4', fg='white', relief=tk.RAISED)\n",
    "button_site.pack(pady=5)\n",
    "\n",
    "# Web sitesi buton animasyonlarına bağlanma\n",
    "button_site.bind(\"<Enter>\", website_butona_giris)\n",
    "button_site.bind(\"<Leave>\", website_butondan_cikis)\n",
    "\n",
    "# Öneri metin alanı\n",
    "oneri_text = tk.Text(window, width=40, height=10, font=(\"Arial Black\",12),  wrap=tk.WORD, bg='white')\n",
    "oneri_text.config(state=tk.DISABLED)\n",
    "oneri_text.pack(pady=10)\n",
    "\n",
    "# Pencereyi göster\n",
    "window.mainloop()\n"
   ]
  },
  {
   "cell_type": "code",
   "execution_count": null,
   "id": "abd2c0e3",
   "metadata": {},
   "outputs": [],
   "source": []
  }
 ],
 "metadata": {
  "kernelspec": {
   "display_name": "Python [conda env:base] *",
   "language": "python",
   "name": "conda-base-py"
  },
  "language_info": {
   "codemirror_mode": {
    "name": "ipython",
    "version": 3
   },
   "file_extension": ".py",
   "mimetype": "text/x-python",
   "name": "python",
   "nbconvert_exporter": "python",
   "pygments_lexer": "ipython3",
   "version": "3.12.3"
  }
 },
 "nbformat": 4,
 "nbformat_minor": 5
}
